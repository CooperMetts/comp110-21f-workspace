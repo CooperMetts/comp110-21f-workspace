{
 "cells": [
  {
   "cell_type": "markdown",
   "metadata": {},
   "source": [
    "# Question: Are students who took an AP computer science class in high school more likely claim the class is easy than those who did not? "
   ]
  },
  {
   "cell_type": "markdown",
   "metadata": {},
   "source": [
    "# Hypothesis: Students who took an AP computer science class in high school are more likely to claim the class is easy than those who did not take an AP computer science class in high school. \n"
   ]
  },
  {
   "cell_type": "markdown",
   "metadata": {},
   "source": [
    "## Another note: \n",
    "\n",
    "I am defining 'easy' as a student having a response in the understanding column > 4. "
   ]
  },
  {
   "cell_type": "code",
   "execution_count": null,
   "metadata": {},
   "outputs": [],
   "source": [
    "%reload_ext autoreload\n",
    "%autoreload 2"
   ]
  },
  {
   "cell_type": "markdown",
   "metadata": {},
   "source": [
    "Reading in CSV data."
   ]
  },
  {
   "cell_type": "code",
   "execution_count": null,
   "metadata": {},
   "outputs": [],
   "source": [
    "DATA_DIRECTORY=\"../../data\"\n",
    "DATA_FILE_PATH=f\"{DATA_DIRECTORY}/survey.csv\""
   ]
  },
  {
   "cell_type": "markdown",
   "metadata": {},
   "source": [
    "Converting CSV data into a column-oriented data table. "
   ]
  },
  {
   "cell_type": "code",
   "execution_count": null,
   "metadata": {},
   "outputs": [],
   "source": [
    "DATA_DIRECTORY=\"../../data\"\n",
    "DATA_FILE_PATH=f\"{DATA_DIRECTORY}/survey.csv\"\n",
    "\n",
    "from data_utils import read_csv_rows, columnar\n",
    "\n",
    "data_rows: list[dict[str, str]] = read_csv_rows(DATA_FILE_PATH)\n",
    "columns: dict[str, list[str]] = columnar(data_rows)"
   ]
  },
  {
   "cell_type": "markdown",
   "metadata": {},
   "source": [
    "This next code cell puts the AP_Principles and AP_A columns into one dictionary stored in the variable named combo. I use combo later as a parameter to help me see how many students that took an AP Computer Science class in high school also responded with an answer of > 4 on the understanding likert scale question. \n",
    "\n",
    "I used the head function to make sure that my use of select worked and that combo was created how I was intending it to be made but without it giving me every single reponse. "
   ]
  },
  {
   "cell_type": "code",
   "execution_count": null,
   "metadata": {},
   "outputs": [],
   "source": [
    "from data_utils import select, concat, head\n",
    "\n",
    "ap_principles: dict[str, list[str]] = select(columns, [\"AP_Principles\"])\n",
    "ap_a: dict[str, list[str]] = select(columns, [\"AP_A\"])\n",
    "combo: dict[str, list[str]] = concat(ap_principles, ap_a)\n",
    "head(combo, 20)"
   ]
  },
  {
   "cell_type": "markdown",
   "metadata": {},
   "source": [
    "Here, I use the select function to create a dictionary containing students' responses in the understanding column. I store this dictionary in the variable ease, which I later use as a parameter in yes_understanding and no_understanding. The ease parameter is used in yes_understanding to see if students that took an AP Computer Science class in high school also think that COMP 110 is easy (or gave a response of > 4 in the understanding column). It serves the same purpose in no_understanding, expect this time it's helping to see if students that did not take an AP Computer Science class in high school also thought that COMP 110 is easy (or gave a response of > 4 in the understanding column)."
   ]
  },
  {
   "cell_type": "code",
   "execution_count": null,
   "metadata": {},
   "outputs": [],
   "source": [
    "from data_utils import select\n",
    "\n",
    "ease: dict[str, list[str]] = select(columns, [\"understanding\"])"
   ]
  },
  {
   "cell_type": "markdown",
   "metadata": {},
   "source": [
    "I isolated the AP_Principles and AP_A lists and stored them in the variables ap_1 (being AP_Principles) and ap_2 (being AP_A) so that I could more easily use the count function in the code cell after this one.  "
   ]
  },
  {
   "cell_type": "code",
   "execution_count": null,
   "metadata": {},
   "outputs": [],
   "source": [
    "from data_utils import column_values\n",
    "\n",
    "ap_1: list[str] = column_values(data_rows, \"AP_Principles\")\n",
    "ap_2: list[str] = column_values(data_rows, \"AP_A\")\n",
    "ap_1\n",
    "ap_2"
   ]
  },
  {
   "cell_type": "markdown",
   "metadata": {},
   "source": [
    "# EDIT THIS\n",
    "\n",
    "This cell of code counts how many students took AP Principles (the count of 'Yes'). I add the count of 'Yes' from this cell of code to the 'Yes' count of the cell of code to after this one (says people_took_ap_a) to get the number of students that took an AP Computer science course in high school. I later use this added number to see what percentage of students in the class that took an AP Computer Science class also thought the class was easy (defined at top). "
   ]
  },
  {
   "cell_type": "code",
   "execution_count": null,
   "metadata": {},
   "outputs": [],
   "source": [
    "from data_utils import count\n",
    "\n",
    "people_took_ap_princples: list[int] = count(ap_1)\n",
    "people_took_ap_princples\n"
   ]
  },
  {
   "cell_type": "markdown",
   "metadata": {},
   "source": [
    "# EDIT THIS\n",
    "This cell of code counts how many stuents took AP_A (the count of 'Yes'). I add the count of 'Yes' from this cell of code to the 'Yes' count of the above cell of code to get the number of people that took an AP Computer Science course in high school. I later use this added number to see what percentage of students in the class that took an AP Computer Science class in high school also thought the class was easy (defined at top). "
   ]
  },
  {
   "cell_type": "code",
   "execution_count": null,
   "metadata": {},
   "outputs": [],
   "source": [
    "from data_utils import count\n",
    "\n",
    "people_took_ap_a: list[int] = count(ap_2)\n",
    "people_took_ap_a"
   ]
  },
  {
   "cell_type": "markdown",
   "metadata": {},
   "source": [
    "This code cell uses the yes_count helper function to make a list of the number of students that took one or both of AP Principles or AP_A. I use this number (the last one in the list that is created by yes_count and stored in the variable 'people_took_one_or_more_cs_ap' because it is the total number of students that said they took an AP Computer Science class in high school) later to see what percentge of students in the class that took an AP Computer Science class in high school also think COMP 110 is easy (or had a response of > 4 in the understanding column). "
   ]
  },
  {
   "cell_type": "code",
   "execution_count": null,
   "metadata": {},
   "outputs": [],
   "source": [
    "from data_utils import yes_count\n",
    "\n",
    "people_took_one_or_more_cs_ap:list[int] = yes_count(ap_principles, ap_a, \"AP_Principles\", \"AP_A\")\n",
    "people_took_one_or_more_cs_ap"
   ]
  },
  {
   "cell_type": "markdown",
   "metadata": {},
   "source": [
    "This code cell uses the no_count helper function to make a list of the number of students that took neither AP Principles nor AP_A. I use this number (the last one in the list created by no_count and stored in the variable 'people_took_no_aps') to see what percentge of students in the class that did not take an AP Computer Science class in high school also think COMP 110 is easy (or had a response of > 4 in the understanding column. "
   ]
  },
  {
   "cell_type": "code",
   "execution_count": null,
   "metadata": {},
   "outputs": [],
   "source": [
    "from data_utils import no_count\n",
    "\n",
    "people_took_no_aps: list[int] = no_count(ap_principles, ap_a, \"AP_Principles\", \"AP_A\")\n",
    "people_took_no_aps"
   ]
  },
  {
   "cell_type": "markdown",
   "metadata": {},
   "source": [
    "Here, I use the yes_understanding helper function I created to see how many of the students in the class that took an AP Computer Science course in high school also thought the class (COMP 110) was easy (or responded with > 4 in the understanding column). This number (being the last number in the list stored in the variable 'people_took_one_or_more_cs_ap') is used with the last number of the list stored in the variable 'people_took_no_aps' to see what percentage of the total students that took an AP Computer Science class also thought COMP 110 was easy (or had a response of > 4 in the understanding column). \n",
    "\n",
    "It looks like this: 64 (the number of students that took one or both of AP_Principles and AP_A in high school and gave a response of > 4 in the understanding column) / 65 (the number of students that took one or both of AP_Principles and AP_A in high school)\n",
    "\n",
    "Simplified: 64 / 65 = .984 or 98.4%"
   ]
  },
  {
   "cell_type": "code",
   "execution_count": null,
   "metadata": {},
   "outputs": [],
   "source": [
    "from data_utils import yes_understanding\n",
    "\n",
    "yes_ease: list[int] = yes_understanding(combo, ease, \"AP_Principles\", \"AP_A\", \"understanding\")\n",
    "yes_ease"
   ]
  },
  {
   "cell_type": "markdown",
   "metadata": {},
   "source": [
    "This code cell uses the no_understanding helper function to count how many of the students that did not take an AP Computer Science class in high school thought that COMP 110 was easy (or gave a response of > 4 in the understanding column). This number (being the last number of the list stored in the variable 'no_ease') is used with the last number of the list stored in the variable 'people_took_no_aps' to calculate what percentage of students that took neither AP_Principles nor AP_A thought COMP 110 is easy (or gave a response of > 4 in the understanding column).\n",
    "\n",
    "It looks like this: 73 (the number of students that took neither AP_Principles nor AP_A and gave a response of > 4 in the understanding column) / 105 (the total number of students that took neither AP_Principles nor AP_A) = .695 \n",
    "\n",
    "Simplified: 73 / 105 = 69.5%"
   ]
  },
  {
   "cell_type": "code",
   "execution_count": null,
   "metadata": {},
   "outputs": [],
   "source": [
    "from data_utils import no_understanding\n",
    "no_ease: list[int] = no_understanding(combo, ease, \"AP_Principles\", \"AP_A\", \"understanding\")\n",
    "no_ease"
   ]
  },
  {
   "cell_type": "markdown",
   "metadata": {},
   "source": [
    "# Conclusion\n",
    "\n",
    "My analysis supported my hypothesis. According to my analysis, there were 170 responses. Of those 170 responses, 65 took either AP_Principles or AP_A in high school while 105 took neither class. \n",
    "\n",
    "Of the 65 students that took either of the AP Computer Science classes in high school, 64 of them claimed that COMP 110 was easy. That means 98.4% of the students that took either or both of the AP Computer Science classes in high school think COMP 110 is easy. \n",
    "\n",
    "The percentage of students that took neither of these AP Computer Science classes were significantly less likely to claim COMP 110 is easy. Of the 105 students that did not take either of the AP Computer Science courses, 70% claimed that COMP 110 is easy (73/105). "
   ]
  }
 ],
 "metadata": {
  "kernelspec": {
   "display_name": "Python 3.9.6 64-bit",
   "metadata": {
    "interpreter": {
     "hash": "b8bdd4e700647ba2b08c59e5df8b7da1dcf50a218bcd4c1bcd9b3dc92e8788e5"
    }
   },
   "name": "python3"
  },
  "language_info": {
   "codemirror_mode": {
    "name": "ipython",
    "version": 3
   },
   "file_extension": ".py",
   "mimetype": "text/x-python",
   "name": "python",
   "nbconvert_exporter": "python",
   "pygments_lexer": "ipython3",
   "version": "3.10.0"
  },
  "orig_nbformat": 2
 },
 "nbformat": 4,
 "nbformat_minor": 2
}
