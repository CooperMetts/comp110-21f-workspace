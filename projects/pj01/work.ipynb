{
 "cells": [
  {
   "cell_type": "markdown",
   "metadata": {},
   "source": [
    "# Question: Are students who took an AP computer science class in high school more likely to claim COMP 110 is easy than those who did not? "
   ]
  },
  {
   "cell_type": "markdown",
   "metadata": {},
   "source": [
    "# Hypothesis: Students who took an AP computer science class in high school are more likely to claim the class is easy than those who did not take an AP computer science class in high school. \n"
   ]
  },
  {
   "cell_type": "markdown",
   "metadata": {},
   "source": [
    "## Easy definition: \n",
    "\n",
    "I am defining 'easy' as a student having a response in the understanding column > 4. "
   ]
  },
  {
   "cell_type": "markdown",
   "metadata": {},
   "source": [
    "## In this project, I looked at data from:\n",
    "\n",
    "AP_Principles\n",
    "\n",
    "AP_A\n",
    "\n",
    "understanding"
   ]
  },
  {
   "cell_type": "markdown",
   "metadata": {},
   "source": [
    "## Also:\n",
    "\n",
    "The text in the parenthesis of my markdowns is important. I hope my explanations make sense to y'all; I tried to make it as clear as I could! "
   ]
  },
  {
   "cell_type": "code",
   "execution_count": null,
   "metadata": {},
   "outputs": [],
   "source": [
    "%reload_ext autoreload\n",
    "%autoreload 2"
   ]
  },
  {
   "cell_type": "markdown",
   "metadata": {},
   "source": [
    "Reading in CSV data."
   ]
  },
  {
   "cell_type": "code",
   "execution_count": null,
   "metadata": {},
   "outputs": [],
   "source": [
    "DATA_DIRECTORY=\"../../data\"\n",
    "DATA_FILE_PATH=f\"{DATA_DIRECTORY}/survey.csv\""
   ]
  },
  {
   "cell_type": "markdown",
   "metadata": {},
   "source": [
    "Converting CSV data into a column-oriented data table. "
   ]
  },
  {
   "cell_type": "code",
   "execution_count": null,
   "metadata": {},
   "outputs": [],
   "source": [
    "DATA_DIRECTORY=\"../../data\"\n",
    "DATA_FILE_PATH=f\"{DATA_DIRECTORY}/survey.csv\"\n",
    "\n",
    "from data_utils import read_csv_rows, columnar\n",
    "\n",
    "data_rows: list[dict[str, str]] = read_csv_rows(DATA_FILE_PATH)\n",
    "columns: dict[str, list[str]] = columnar(data_rows)"
   ]
  },
  {
   "cell_type": "markdown",
   "metadata": {},
   "source": [
    "This next code cell puts the AP_Principles and AP_A columns into one dictionary stored in the variable named combo. I use combo later as a parameter in the yes_understanding and no_understanding functions to help me see how many students that did and did not take an AP Computer Science class in high school also responded with an answer of > 4 on the understanding likert scale question, or by my definition thought the class was easy. \n",
    "\n",
    "I used the head function to make sure that my use of select worked and that combo was created how I was intending it to be made but without it giving me every single reponse. "
   ]
  },
  {
   "cell_type": "code",
   "execution_count": null,
   "metadata": {},
   "outputs": [],
   "source": [
    "from data_utils import select, concat, head\n",
    "\n",
    "ap_principles: dict[str, list[str]] = select(columns, [\"AP_Principles\"])\n",
    "ap_a: dict[str, list[str]] = select(columns, [\"AP_A\"])\n",
    "combo: dict[str, list[str]] = concat(ap_principles, ap_a)\n",
    "head(combo, 20)"
   ]
  },
  {
   "cell_type": "markdown",
   "metadata": {},
   "source": [
    "Here, I use the select function to create a dictionary containing students' responses in the understanding column. I store this dictionary in the variable ease, which I later use as a parameter in yes_understanding and no_understanding. The ease parameter is used in yes_understanding to see if students that took an AP Computer Science class in high school also think that COMP 110 is easy (or gave a response of > 4 in the understanding column). It serves the same purpose in no_understanding, expect this time it's helping to see if students that did not take an AP Computer Science class in high school also thought that COMP 110 is easy (or gave a response of > 4 in the understanding column)."
   ]
  },
  {
   "cell_type": "code",
   "execution_count": null,
   "metadata": {},
   "outputs": [],
   "source": [
    "from data_utils import select\n",
    "\n",
    "ease: dict[str, list[str]] = select(columns, [\"understanding\"])"
   ]
  },
  {
   "cell_type": "markdown",
   "metadata": {},
   "source": [
    "I isolated the AP_Principles and AP_A lists and stored them in the variables ap_1 (being AP_Principles) and ap_2 (being AP_A) so that I could more easily use the count function in the code cell after this one.  "
   ]
  },
  {
   "cell_type": "code",
   "execution_count": null,
   "metadata": {},
   "outputs": [],
   "source": [
    "from data_utils import column_values\n",
    "\n",
    "ap_1: list[str] = column_values(data_rows, \"AP_Principles\")\n",
    "ap_2: list[str] = column_values(data_rows, \"AP_A\")\n",
    "ap_1\n",
    "ap_2"
   ]
  },
  {
   "cell_type": "markdown",
   "metadata": {},
   "source": [
    "This cell of code counts how many students took AP Principles (the count of 'Yes'). It also counts how many people did not take AP Principles and just didn't answer the question on the survey. \n",
    "\n",
    "I know it's kind of a small use, but I use the count function to verify that my yes_count and no_count helper functions worked properly (work properly being that they made a list of how many people did or did not take AP_Principles or AP_A). The last number in the list produced by yes_count (65), stored in the variable 'people_took_one_or_more_cs_ap', plus the last number in the list produced by no_count (105), stored in the variable 'people_took_no_aps', is 170. This means that 170 students answered the AP_Principles section on the survey. \n",
    "\n",
    "I verify that with the output of the below code cell, which is 'Yes': 46 and 'No': 124. Those two added together 46 + 124 = 170, which verifies that my yes_count and no_count functions worked how I intended them to work. "
   ]
  },
  {
   "cell_type": "code",
   "execution_count": null,
   "metadata": {},
   "outputs": [],
   "source": [
    "from data_utils import count\n",
    "\n",
    "people_took_ap_princples: list[int] = count(ap_1)\n",
    "people_took_ap_princples\n"
   ]
  },
  {
   "cell_type": "markdown",
   "metadata": {},
   "source": [
    "This cell of code counts how many students took AP_A (the count of 'Yes'). It also counts how many people did not take AP_A and just didn't answer the question. \n",
    "\n",
    "I know it's kind of a small use, but I use the count function here to verify that my yes_count and no_count helper functions worked properly (work properly being that they made a list of how many people did or did not take AP_Principles or AP_A). The last number in the list produced by yes_count (65), stored in the variable 'people_took_one_or_more_cs_ap',  plus the last number in the list produced by no_count (105), stored in the variable 'people_took_no_aps', is 170. This means that 170 students answered the AP_Principles section on the survey. \n",
    "\n",
    "I verify that with the output of the below code cell, which is 'Yes': 35 and 'No': 135. Those to added together 35 + 135 = 170, which verifies that my yes_count and no_count functions worked how I intended them to work. "
   ]
  },
  {
   "cell_type": "code",
   "execution_count": null,
   "metadata": {},
   "outputs": [],
   "source": [
    "from data_utils import count\n",
    "\n",
    "people_took_ap_a: list[int] = count(ap_2)\n",
    "people_took_ap_a"
   ]
  },
  {
   "cell_type": "markdown",
   "metadata": {},
   "source": [
    "This code cell uses the yes_count helper function to make a list of the number of students that took one or both of AP Principles or AP_A. I use the last number in the list that is created by yes_count and stored in the variable 'people_took_one_or_more_cs_ap' because it is the total number of students that said they took an AP Computer Science class in high school later to see what percentge of students in the class that took an AP Computer Science class in high school also think COMP 110 is easy (or had a response of > 4 in the understanding column). "
   ]
  },
  {
   "cell_type": "code",
   "execution_count": null,
   "metadata": {},
   "outputs": [],
   "source": [
    "from data_utils import yes_count\n",
    "\n",
    "people_took_one_or_more_cs_ap:list[int] = yes_count(ap_principles, ap_a, \"AP_Principles\", \"AP_A\")\n",
    "people_took_one_or_more_cs_ap"
   ]
  },
  {
   "cell_type": "markdown",
   "metadata": {},
   "source": [
    "This code cell uses the no_count helper function to make a list of the number of students that took neither AP Principles nor AP_A. I use this number the last number in the list created by no_count and stored in the variable 'people_took_no_aps' later to see what percentge of students in the class that did not take an AP Computer Science class in high school also think COMP 110 is easy (or had a response of > 4 in the understanding column). "
   ]
  },
  {
   "cell_type": "code",
   "execution_count": null,
   "metadata": {},
   "outputs": [],
   "source": [
    "from data_utils import no_count\n",
    "\n",
    "people_took_no_aps: list[int] = no_count(ap_principles, ap_a, \"AP_Principles\", \"AP_A\")\n",
    "people_took_no_aps"
   ]
  },
  {
   "cell_type": "markdown",
   "metadata": {},
   "source": [
    "Here, I use the yes_understanding helper function to see how many of the students in the class that took an AP Computer Science course in high school also thought the class (COMP 110) was easy (or responded with > 4 in the understanding column). This number (being the last number in the list stored in 'yes_ease') is used with the last number of the list stored in the variable 'people_took_one_or_more_cs_ap' to see what percentage of the total students that took an AP Computer Science class also thought COMP 110 was easy (or had a response of > 4 in the understanding column). \n",
    "\n",
    "It looks like this: 64 (the number of students that took one or both of AP_Principles and AP_A in high school and gave a response of > 4 in the understanding column — or the last number of the list stored in 'yes_ease') / 65 (the number of students that took one or both of AP_Principles and AP_A in high school — or the last number of the list stored in 'people_took_one_or_more_cs_ap')\n",
    "\n",
    "Simplified: 64 / 65 = .984 or 98.4%"
   ]
  },
  {
   "cell_type": "code",
   "execution_count": null,
   "metadata": {},
   "outputs": [],
   "source": [
    "from data_utils import yes_understanding\n",
    "\n",
    "yes_ease: list[int] = yes_understanding(combo, ease, \"AP_Principles\", \"AP_A\", \"understanding\")\n",
    "yes_ease"
   ]
  },
  {
   "cell_type": "markdown",
   "metadata": {},
   "source": [
    "This code cell uses the no_understanding helper function to make a list of how many of the students that did not take an AP Computer Science class in high school thought that COMP 110 was easy (or gave a response of > 4 in the understanding column). This number (being the last number of the list stored in the variable 'no_ease') is used with the last number of the list stored in the variable 'people_took_no_aps' to calculate what percentage of students that took neither AP_Principles nor AP_A thought COMP 110 is easy (or gave a response of > 4 in the understanding column).\n",
    "\n",
    "It looks like this: 73 (the number of students that took neither AP_Principles nor AP_A and gave a response of > 4 in the understanding column — the last number of the list stored in 'no_ease') / 105 (the total number of students that took neither AP_Principles nor AP_A — the last number of the list stored in 'people_took_no_aps') = .695 \n",
    "\n",
    "Simplified: 73 / 105 = 69.5%"
   ]
  },
  {
   "cell_type": "code",
   "execution_count": null,
   "metadata": {},
   "outputs": [],
   "source": [
    "from data_utils import no_understanding\n",
    "no_ease: list[int] = no_understanding(combo, ease, \"AP_Principles\", \"AP_A\", \"understanding\")\n",
    "no_ease"
   ]
  },
  {
   "cell_type": "code",
   "execution_count": null,
   "metadata": {},
   "outputs": [],
   "source": [
    "import seaborn"
   ]
  },
  {
   "cell_type": "code",
   "execution_count": null,
   "metadata": {},
   "outputs": [],
   "source": [
    "seaborn.barplot(x=[\"easy&CS-AP\", \"CS-AP\", \"easy&No CS-AP\", \"No CS-AP\"], y=[64, 65, 73, 105])\n"
   ]
  },
  {
   "cell_type": "markdown",
   "metadata": {},
   "source": [
    "# Conclusion\n",
    "\n",
    "My analysis supported my hypothesis. According to my analysis, 170 students had a response to the survey sections AP_Principles and AP_A. Of those 170 responses, 65 took either AP_Principles or AP_A in high school while 105 took neither class. \n",
    "\n",
    "Of the 65 students that took either of the AP Computer Science classes in high school, 64 of them claimed that COMP 110 was easy. That means 98.4% of the students that took either or both of the AP Computer Science classes in high school claimed COMP 110 was easy. \n",
    "\n",
    "The percentage of students that took neither of these AP Computer Science classes were significantly less likely to claim COMP 110 is easy. Of the 105 students that did not take either of the AP Computer Science courses, 70% claimed that COMP 110 is easy (73/105). \n",
    "\n",
    "My bar graph visualizes this gap. The first bar shows how many students that took one or more AP Computer Science classes thought that COMP 110 was easy. The second bar shows how many people just took one or more AP Computer Science classes. Similarly, the third bar shows how many people did not take an AP Computer Science class and also thought COMP 110 was easy while the fourth bar shows how many students did not take an AP Computer Science class. \n",
    "\n",
    "The gap between the second set of bars is significantly bigger than the gap between the first set of bars, showing how much more likely students that took an AP Computer Science class in high school are to think that COMP 110 is easy. "
   ]
  }
 ],
 "metadata": {
  "kernelspec": {
   "display_name": "Python 3.9.6 64-bit",
   "metadata": {
    "interpreter": {
     "hash": "b8bdd4e700647ba2b08c59e5df8b7da1dcf50a218bcd4c1bcd9b3dc92e8788e5"
    }
   },
   "name": "python3"
  },
  "language_info": {
   "codemirror_mode": {
    "name": "ipython",
    "version": 3
   },
   "file_extension": ".py",
   "mimetype": "text/x-python",
   "name": "python",
   "nbconvert_exporter": "python",
   "pygments_lexer": "ipython3",
   "version": "3.10.0"
  },
  "orig_nbformat": 2
 },
 "nbformat": 4,
 "nbformat_minor": 2
}
